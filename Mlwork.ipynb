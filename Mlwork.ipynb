{
 "cells": [
  {
   "cell_type": "code",
   "execution_count": 33,
   "metadata": {},
   "outputs": [],
   "source": [
    "import pandas as pd\n",
    "import numpy as np\n",
    "import matplotlib.pyplot as plt"
   ]
  },
  {
   "cell_type": "code",
   "execution_count": 2,
   "metadata": {},
   "outputs": [],
   "source": [
    "data1=pd.read_csv('9k.csv')"
   ]
  },
  {
   "cell_type": "code",
   "execution_count": 3,
   "metadata": {},
   "outputs": [],
   "source": [
    "df=data1.copy(deep=True)"
   ]
  },
  {
   "cell_type": "code",
   "execution_count": 4,
   "metadata": {},
   "outputs": [
    {
     "data": {
      "text/html": [
       "<div>\n",
       "<style scoped>\n",
       "    .dataframe tbody tr th:only-of-type {\n",
       "        vertical-align: middle;\n",
       "    }\n",
       "\n",
       "    .dataframe tbody tr th {\n",
       "        vertical-align: top;\n",
       "    }\n",
       "\n",
       "    .dataframe thead th {\n",
       "        text-align: right;\n",
       "    }\n",
       "</style>\n",
       "<table border=\"1\" class=\"dataframe\">\n",
       "  <thead>\n",
       "    <tr style=\"text-align: right;\">\n",
       "      <th></th>\n",
       "      <th>Unnamed: 0</th>\n",
       "      <th>tweets</th>\n",
       "      <th>subjectivity</th>\n",
       "      <th>polarity</th>\n",
       "      <th>sentiment</th>\n",
       "    </tr>\n",
       "  </thead>\n",
       "  <tbody>\n",
       "    <tr>\n",
       "      <th>0</th>\n",
       "      <td>0</td>\n",
       "      <td>b'@RexBrynen: Angus Reid poll: most Canadians ...</td>\n",
       "      <td>0.283333</td>\n",
       "      <td>0.250000</td>\n",
       "      <td>Positive</td>\n",
       "    </tr>\n",
       "    <tr>\n",
       "      <th>1</th>\n",
       "      <td>1</td>\n",
       "      <td>b\"@NjbBari Do emails in weeks, sent to parents...</td>\n",
       "      <td>0.000000</td>\n",
       "      <td>0.000000</td>\n",
       "      <td>Neutral</td>\n",
       "    </tr>\n",
       "    <tr>\n",
       "      <th>2</th>\n",
       "      <td>2</td>\n",
       "      <td>b'@nickrmanes: Great historical footnote dug u...</td>\n",
       "      <td>0.420833</td>\n",
       "      <td>0.158333</td>\n",
       "      <td>Positive</td>\n",
       "    </tr>\n",
       "    <tr>\n",
       "      <th>3</th>\n",
       "      <td>3</td>\n",
       "      <td>b'@NickSawyerMD: COVID- disinformation campaig...</td>\n",
       "      <td>0.100000</td>\n",
       "      <td>0.000000</td>\n",
       "      <td>Neutral</td>\n",
       "    </tr>\n",
       "    <tr>\n",
       "      <th>4</th>\n",
       "      <td>4</td>\n",
       "      <td>b'@DrEricDing: ) There have been more than m e...</td>\n",
       "      <td>0.611111</td>\n",
       "      <td>0.388889</td>\n",
       "      <td>Positive</td>\n",
       "    </tr>\n",
       "  </tbody>\n",
       "</table>\n",
       "</div>"
      ],
      "text/plain": [
       "   Unnamed: 0                                             tweets  \\\n",
       "0           0  b'@RexBrynen: Angus Reid poll: most Canadians ...   \n",
       "1           1  b\"@NjbBari Do emails in weeks, sent to parents...   \n",
       "2           2  b'@nickrmanes: Great historical footnote dug u...   \n",
       "3           3  b'@NickSawyerMD: COVID- disinformation campaig...   \n",
       "4           4  b'@DrEricDing: ) There have been more than m e...   \n",
       "\n",
       "   subjectivity  polarity sentiment  \n",
       "0      0.283333  0.250000  Positive  \n",
       "1      0.000000  0.000000   Neutral  \n",
       "2      0.420833  0.158333  Positive  \n",
       "3      0.100000  0.000000   Neutral  \n",
       "4      0.611111  0.388889  Positive  "
      ]
     },
     "execution_count": 4,
     "metadata": {},
     "output_type": "execute_result"
    }
   ],
   "source": [
    "df.head()"
   ]
  },
  {
   "cell_type": "code",
   "execution_count": 5,
   "metadata": {},
   "outputs": [],
   "source": [
    "df.drop([\"subjectivity\",\"polarity\"],axis=1,inplace=True)"
   ]
  },
  {
   "cell_type": "code",
   "execution_count": 6,
   "metadata": {},
   "outputs": [],
   "source": [
    "from sklearn.model_selection import train_test_split\n",
    "\n",
    "train, test = train_test_split(df, test_size=0.20)"
   ]
  },
  {
   "cell_type": "code",
   "execution_count": 7,
   "metadata": {},
   "outputs": [
    {
     "data": {
      "text/plain": [
       "(1413, 354)"
      ]
     },
     "execution_count": 7,
     "metadata": {},
     "output_type": "execute_result"
    }
   ],
   "source": [
    "len(train), len(test)"
   ]
  },
  {
   "cell_type": "code",
   "execution_count": 8,
   "metadata": {},
   "outputs": [],
   "source": [
    "from sklearn.feature_extraction.text import CountVectorizer, TfidfTransformer\n",
    "\n",
    "count_vectorization = CountVectorizer()\n",
    "tfidf_transformation = TfidfTransformer()"
   ]
  },
  {
   "cell_type": "code",
   "execution_count": 9,
   "metadata": {},
   "outputs": [],
   "source": [
    "X_train_count_vector = count_vectorization.fit_transform(train[\"tweets\"])\n",
    "X_train_tfidf_vector = tfidf_transformation.fit_transform(X_train_count_vector)\n",
    "\n",
    "X_test_count_vector = count_vectorization.transform(test[\"tweets\"])\n",
    "X_test_tfidf_vector = tfidf_transformation.transform(X_test_count_vector)\n",
    "\n",
    "y_train = train['sentiment']\n",
    "y_test = test['sentiment']"
   ]
  },
  {
   "cell_type": "code",
   "execution_count": 10,
   "metadata": {},
   "outputs": [],
   "source": [
    "from sklearn.linear_model import SGDClassifier\n",
    "from sklearn.naive_bayes import MultinomialNB\n",
    "from sklearn.naive_bayes import BernoulliNB\n",
    "from sklearn.linear_model import LogisticRegression\n",
    "from sklearn.tree import DecisionTreeClassifier\n",
    "from sklearn.svm import SVC"
   ]
  },
  {
   "cell_type": "code",
   "execution_count": 11,
   "metadata": {},
   "outputs": [],
   "source": [
    "model_prediction = dict()"
   ]
  },
  {
   "cell_type": "code",
   "execution_count": 52,
   "metadata": {},
   "outputs": [
    {
     "data": {
      "text/plain": [
       "MLPClassifier(alpha=1e-05, hidden_layer_sizes=(5, 2), random_state=1,\n",
       "              solver='lbfgs')"
      ]
     },
     "execution_count": 52,
     "metadata": {},
     "output_type": "execute_result"
    }
   ],
   "source": [
    "\n",
    "model = SGDClassifier(max_iter=1000, tol=1e-3, loss=\"modified_huber\").fit(X_train_tfidf_vector, y_train)\n",
    "model_prediction['SVM-SGD'] = model.predict(X_test_tfidf_vector)\n",
    "\n",
    "\n",
    "model = MultinomialNB().fit(X_train_tfidf_vector, y_train)\n",
    "model_prediction['Multinomial'] = model.predict(X_test_tfidf_vector)\n",
    "\n",
    "\n",
    "model = BernoulliNB().fit(X_train_tfidf_vector, y_train)\n",
    "model_prediction['Bernoulli'] = model.predict(X_test_tfidf_vector)\n",
    "\n",
    "\n",
    "model = LogisticRegression(C=1).fit(X_train_tfidf_vector, y_train)\n",
    "model_prediction['Logistic'] = model.predict(X_test_tfidf_vector)\n",
    "\n",
    "model = SVC(gamma='auto', C=1).fit(X_train_tfidf_vector, y_train)\n",
    "model_prediction['SVM'] = model.predict(X_test_tfidf_vector)\n",
    "\n",
    "model = DecisionTreeClassifier().fit(X_train_tfidf_vector, y_train)\n",
    "model_prediction['Decision Tree'] = model.predict(X_test_tfidf_vector)\n",
    "\n",
    "model=MLPClassifier(solver='lbfgs', alpha=1e-5, hidden_layer_sizes=(5, 2), random_state=1)\n",
    "model.fit(X_train_tfidf_vector, y_train)\n"
   ]
  },
  {
   "cell_type": "code",
   "execution_count": 53,
   "metadata": {},
   "outputs": [],
   "source": [
    "from sklearn import metrics\n",
    "from sklearn.metrics import accuracy_score, f1_score\n",
    "from sklearn.metrics import classification_report, confusion_matrix"
   ]
  },
  {
   "cell_type": "code",
   "execution_count": 54,
   "metadata": {},
   "outputs": [
    {
     "name": "stdout",
     "output_type": "stream",
     "text": [
      "ACCURACY SCORE:\n",
      "\n",
      "SVM-SGD :  85.31\n",
      "Multinomial :  78.25\n",
      "Bernoulli :  82.77\n",
      "Logistic :  84.75\n",
      "SVM :  47.18\n",
      "Decision Tree :  81.92\n"
     ]
    }
   ],
   "source": [
    "print(\"ACCURACY SCORE:\\n\")\n",
    "for model_name in model_prediction.keys():\n",
    "  print(model_name, ': ', round(accuracy_score(y_test, model_prediction[model_name])*100, 2))"
   ]
  },
  {
   "cell_type": "code",
   "execution_count": 55,
   "metadata": {},
   "outputs": [
    {
     "data": {
      "image/png": "[encoded data removed]",
      "text/plain": [
       "<Figure size 360x360 with 1 Axes>"
      ]
     },
     "metadata": {
      "needs_background": "light"
     },
     "output_type": "display_data"
    }
   ],
   "source": [
    "x=[\"SVM-SGD\", \"Multinomial\", \"Bernoulli\", \"Logistic\", \"SVM\", \"Decision Tree\", \"MLP\"]\n",
    "y=[85.03,78.25,82.77,84.75,47.18,76.88,83.0]\n",
    "import seaborn as sns \n",
    "sns.catplot(x=\"model\", y=\"accuracy\", data=pd.DataFrame(list(zip(x,y)),columns=[\"model\", \"accuracy\"]), kind=\"bar\")\n",
    "plt.show()"
   ]
  },
  {
   "cell_type": "code",
   "execution_count": 30,
   "metadata": {},
   "outputs": [
    {
     "data": {
      "text/plain": [
       "<AxesSubplot:xlabel='model', ylabel='accuracy'>"
      ]
     },
     "execution_count": 30,
     "metadata": {},
     "output_type": "execute_result"
    },
    {
     "data": {
      "image/png": "[encoded data removed]",
      "text/plain": [
       "<Figure size 432x288 with 1 Axes>"
      ]
     },
     "metadata": {
      "needs_background": "light"
     },
     "output_type": "display_data"
    }
   ],
   "source": [
    "sns.boxenplot(x=\"model\", y=\"accuracy\", data=pd.DataFrame(list(zip(x,y)),columns=[\"model\", \"accuracy\"]))"
   ]
  },
  {
   "cell_type": "code",
   "execution_count": null,
   "metadata": {},
   "outputs": [],
   "source": []
  },
  {
   "cell_type": "code",
   "execution_count": 34,
   "metadata": {},
   "outputs": [
    {
     "name": "stderr",
     "output_type": "stream",
     "text": [
      "d:\\Users\\YASWANTH\\anaconda3\\envs\\gr\\lib\\site-packages\\sklearn\\linear_model\\_logistic.py:765: ConvergenceWarning: lbfgs failed to converge (status=1):\n",
      "STOP: TOTAL NO. of ITERATIONS REACHED LIMIT.\n",
      "\n",
      "Increase the number of iterations (max_iter) or scale the data as shown in:\n",
      "    https://scikit-learn.org/stable/modules/preprocessing.html\n",
      "Please also refer to the documentation for alternative solver options:\n",
      "    https://scikit-learn.org/stable/modules/linear_model.html#logistic-regression\n",
      "  extra_warning_msg=_LOGISTIC_SOLVER_CONVERGENCE_MSG)\n"
     ]
    },
    {
     "data": {
      "text/plain": [
       "GridSearchCV(estimator=LogisticRegression(),\n",
       "             param_grid={'C': [0.001, 0.01, 0.1, 1, 10]})"
      ]
     },
     "execution_count": 34,
     "metadata": {},
     "output_type": "execute_result"
    }
   ],
   "source": [
    "from sklearn.model_selection import GridSearchCV\n",
    "\n",
    "param_grid = {'C': [0.001, 0.01, 0.1, 1, 10]}\n",
    "\n",
    "grid = GridSearchCV(LogisticRegression(), param_grid)\n",
    "grid.fit(X_train_tfidf_vector, y_train)"
   ]
  },
  {
   "cell_type": "code",
   "execution_count": 35,
   "metadata": {},
   "outputs": [
    {
     "name": "stdout",
     "output_type": "stream",
     "text": [
      "Best cross-validation score: 0.84\n",
      "Best parameter:  {'C': 10}\n",
      "Best estimator:  LogisticRegression(C=10)\n"
     ]
    }
   ],
   "source": [
    "print(\"Best cross-validation score: {:.2f}\".format(grid.best_score_))\n",
    "print(\"Best parameter: \", grid.best_params_)\n",
    "print(\"Best estimator: \", grid.best_estimator_)\n"
   ]
  },
  {
   "cell_type": "code",
   "execution_count": 39,
   "metadata": {},
   "outputs": [],
   "source": [
    "import seaborn as sns\n",
    "\n",
    "conf_mat = confusion_matrix(y_test, model_prediction['SVM'])\n",
    "\n"
   ]
  },
  {
   "cell_type": "code",
   "execution_count": 40,
   "metadata": {},
   "outputs": [
    {
     "data": {
      "text/plain": [
       "array([[  0,   0,  48],\n",
       "       [  0,   0, 139],\n",
       "       [  0,   0, 167]], dtype=int64)"
      ]
     },
     "execution_count": 40,
     "metadata": {},
     "output_type": "execute_result"
    }
   ],
   "source": [
    "conf_mat"
   ]
  },
  {
   "cell_type": "code",
   "execution_count": 49,
   "metadata": {},
   "outputs": [
    {
     "data": {
      "image/png": "[encoded data removed]",
      "text/plain": [
       "<Figure size 432x288 with 2 Axes>"
      ]
     },
     "metadata": {
      "needs_background": "light"
     },
     "output_type": "display_data"
    }
   ],
   "source": [
    "import seaborn as sns\n",
    "\n",
    "conf_mat = confusion_matrix(y_test, model_prediction['Bernoulli'])\n",
    "axes = [\"Negative\", \"Positive\",\"Neutral\"]\n",
    "confusion_matrix_df = pd.DataFrame(conf_mat, axes, axes, dtype=int)\n",
    "sns.heatmap(confusion_matrix_df, annot=True, fmt=\"d\")\n",
    "plt.title(\"Confustion Matrix for BernoulliNB\")\n",
    "plt.show()"
   ]
  },
  {
   "cell_type": "code",
   "execution_count": 51,
   "metadata": {},
   "outputs": [
    {
     "name": "stdout",
     "output_type": "stream",
     "text": [
      "              precision    recall  f1-score   support\n",
      "\n",
      "    Negative       0.71      0.73      0.72        48\n",
      "     Neutral       0.84      0.77      0.80       139\n",
      "    Positive       0.84      0.90      0.87       167\n",
      "\n",
      "    accuracy                           0.82       354\n",
      "   macro avg       0.80      0.80      0.80       354\n",
      "weighted avg       0.83      0.82      0.82       354\n",
      "\n",
      "Accuracy: 82.48587570621469\n"
     ]
    }
   ],
   "source": [
    "from sklearn.neural_network import MLPClassifier\n",
    "from sklearn.metrics import accuracy_score, f1_score,classification_report\n",
    "classifer=MLPClassifier(hidden_layer_sizes=(100,100,100),max_iter=1000)\n",
    "classifer.fit(X_train_tfidf_vector,y_train)\n",
    "prediction=classifer.predict(X_test_tfidf_vector)\n",
    "print(classification_report(y_test,prediction))\n",
    "print(\"Accuracy:\",accuracy_score(y_test,prediction)*100)\n",
    "\n"
   ]
  },
  {
   "cell_type": "code",
   "execution_count": null,
   "metadata": {},
   "outputs": [],
   "source": [
    "\n",
    "\n",
    "\n"
   ]
  },
  {
   "cell_type": "code",
   "execution_count": null,
   "metadata": {},
   "outputs": [],
   "source": []
  },
  {
   "cell_type": "code",
   "execution_count": null,
   "metadata": {},
   "outputs": [],
   "source": []
  }
 ],
 "metadata": {
  "interpreter": {
   "hash": "90c985cc047d5a65037cfccd0e7eba3544fde910f643ecb3dc813af6d7189d16"
  },
  "kernelspec": {
   "display_name": "Python 3.6.13 ('gr')",
   "language": "python",
   "name": "python3"
  },
  "language_info": {
   "codemirror_mode": {
    "name": "ipython",
    "version": 3
   },
   "file_extension": ".py",
   "mimetype": "text/x-python",
   "name": "python",
   "nbconvert_exporter": "python",
   "pygments_lexer": "ipython3",
   "version": "3.6.13"
  },
  "orig_nbformat": 4
 },
 "nbformat": 4,
 "nbformat_minor": 2
}
